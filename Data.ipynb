{
 "cells": [
  {
   "cell_type": "code",
   "execution_count": 1,
   "metadata": {},
   "outputs": [],
   "source": [
    "import pandas as pd\n",
    "import numpy as np\n",
    "from sklearn.model_selection import train_test_split\n",
    "from sklearn.preprocessing import MultiLabelBinarizer\n",
    "multilabelbinarizer = MultiLabelBinarizer()"
   ]
  },
  {
   "cell_type": "markdown",
   "metadata": {},
   "source": [
    "# Mexico"
   ]
  },
  {
   "cell_type": "code",
   "execution_count": 2,
   "metadata": {},
   "outputs": [],
   "source": [
    "mexico = pd.read_excel('ProductionUnits_Mexico.xlsx')"
   ]
  },
  {
   "cell_type": "code",
   "execution_count": 3,
   "metadata": {},
   "outputs": [
    {
     "name": "stdout",
     "output_type": "stream",
     "text": [
      "<class 'pandas.core.frame.DataFrame'>\n",
      "RangeIndex: 149 entries, 0 to 148\n",
      "Data columns (total 10 columns):\n",
      " #   Column                                                                       Non-Null Count  Dtype  \n",
      "---  ------                                                                       --------------  -----  \n",
      " 0   Member Id (limit 100 characters)                                             0 non-null      float64\n",
      " 1   Member Name (limit 500 characters)                                           0 non-null      float64\n",
      " 2   Production Unit Name (limit 500 characters)                                  149 non-null    object \n",
      " 3   Address 1 (limit 100 characters)                                             149 non-null    object \n",
      " 4   City (limit 100 characters)                                                  148 non-null    object \n",
      " 5   Zip Code (limit 50 characters)                                               149 non-null    object \n",
      " 6   Country                                                                      149 non-null    object \n",
      " 7   Phone - [Coutry Code] - [Area Code] - [Phone Number] (limit 100 characters)  149 non-null    object \n",
      " 8   PU No. of workers                                                            103 non-null    float64\n",
      " 9   Product Type (Apparel; Accessories, Footwear, Fabric Mills)                  149 non-null    object \n",
      "dtypes: float64(3), object(7)\n",
      "memory usage: 11.8+ KB\n"
     ]
    }
   ],
   "source": [
    "mexico.info()"
   ]
  },
  {
   "cell_type": "code",
   "execution_count": 4,
   "metadata": {},
   "outputs": [],
   "source": [
    "mexico.rename(columns={'Member Id (limit 100 characters)':'member_id',\n",
    "       'Member Name (limit 500 characters)':'member_name',\n",
    "       'Production Unit Name (limit 500 characters)':'pu_name',\n",
    "       'Address 1 (limit 100 characters)':'pu_address',\n",
    "        'City (limit 100 characters)':'pu_city',\n",
    "       'Zip Code (limit 50 characters)':'pu_zipcode', 'Country':'pu_country',\n",
    "       'Phone - [Coutry Code] - [Area Code] - [Phone Number] (limit 100 characters)':'phone',\n",
    "       'PU No. of workers':'number_of_workers',\n",
    "       'Product Type (Apparel; Accessories, Footwear, Fabric Mills)':'product_type'}, inplace=True)"
   ]
  },
  {
   "cell_type": "code",
   "execution_count": 5,
   "metadata": {},
   "outputs": [],
   "source": [
    "mexico.drop(['phone', 'member_id', 'member_name', ], axis = 1, inplace=True)"
   ]
  },
  {
   "cell_type": "code",
   "execution_count": 6,
   "metadata": {},
   "outputs": [],
   "source": [
    "mexico['tier_level1'] = 1\n",
    "mexico['tier_level2'] = 0\n",
    "mexico['tier_level3'] = 0"
   ]
  },
  {
   "cell_type": "code",
   "execution_count": 7,
   "metadata": {},
   "outputs": [],
   "source": [
    "mexico = mexico[['pu_name','pu_country', 'pu_city', 'pu_zipcode', 'pu_address', 'product_type', \n",
    "                 'tier_level1','tier_level2','tier_level3', 'number_of_workers']]"
   ]
  },
  {
   "cell_type": "code",
   "execution_count": 8,
   "metadata": {},
   "outputs": [],
   "source": [
    "mexico['issued_from'] = 'Mexico'"
   ]
  },
  {
   "cell_type": "code",
   "execution_count": 9,
   "metadata": {},
   "outputs": [
    {
     "name": "stdout",
     "output_type": "stream",
     "text": [
      "<class 'pandas.core.frame.DataFrame'>\n",
      "RangeIndex: 149 entries, 0 to 148\n",
      "Data columns (total 11 columns):\n",
      " #   Column             Non-Null Count  Dtype  \n",
      "---  ------             --------------  -----  \n",
      " 0   pu_name            149 non-null    object \n",
      " 1   pu_country         149 non-null    object \n",
      " 2   pu_city            148 non-null    object \n",
      " 3   pu_zipcode         149 non-null    object \n",
      " 4   pu_address         149 non-null    object \n",
      " 5   product_type       149 non-null    object \n",
      " 6   tier_level1        149 non-null    int64  \n",
      " 7   tier_level2        149 non-null    int64  \n",
      " 8   tier_level3        149 non-null    int64  \n",
      " 9   number_of_workers  103 non-null    float64\n",
      " 10  issued_from        149 non-null    object \n",
      "dtypes: float64(1), int64(3), object(7)\n",
      "memory usage: 12.9+ KB\n"
     ]
    }
   ],
   "source": [
    "mexico.info()"
   ]
  },
  {
   "cell_type": "markdown",
   "metadata": {},
   "source": [
    "# Brazil"
   ]
  },
  {
   "cell_type": "code",
   "execution_count": 10,
   "metadata": {},
   "outputs": [],
   "source": [
    "br = pd.read_excel('ProductionUnits_BR.xlsx')"
   ]
  },
  {
   "cell_type": "code",
   "execution_count": 11,
   "metadata": {},
   "outputs": [],
   "source": [
    "br.rename(columns={'Production Unit Name (limit 500 characters)':'pu_name', \n",
    "                   'PU Number':'pu_number',\n",
    "                   'Address 1 (limit 100 characters)':'pu_address', \n",
    "                   'City (limit 100 characters)':'pu_city',\n",
    "                   'Zip Code (limit 50 characters)':'pu_zipcode', \n",
    "                   'Country':'pu_country',\n",
    "                   'Phone - [Coutry Code] - [Area Code] - [Phone Number] (limit 100 characters)':'phone_number',\n",
    "                   'PU No of Workers':'number_of_workers',\n",
    "                   'Product Type (Apparel; Accessories, Footwear, Fabric Mills)':'product_type'}, inplace=True)"
   ]
  },
  {
   "cell_type": "code",
   "execution_count": 12,
   "metadata": {},
   "outputs": [],
   "source": [
    "br.drop(['pu_number', 'phone_number'], axis = 1, inplace=True)"
   ]
  },
  {
   "cell_type": "code",
   "execution_count": 13,
   "metadata": {},
   "outputs": [],
   "source": [
    "br['tier_level1'] = 1\n",
    "br['tier_level2'] = 0\n",
    "br['tier_level3'] = 0"
   ]
  },
  {
   "cell_type": "code",
   "execution_count": 14,
   "metadata": {},
   "outputs": [],
   "source": [
    "br = br[['pu_name','pu_country', 'pu_city', 'pu_zipcode', 'pu_address', \n",
    "         'product_type', 'tier_level1','tier_level2','tier_level3', 'number_of_workers']]"
   ]
  },
  {
   "cell_type": "code",
   "execution_count": 15,
   "metadata": {},
   "outputs": [],
   "source": [
    "br['issued_from'] = 'Brazil'"
   ]
  },
  {
   "cell_type": "code",
   "execution_count": 16,
   "metadata": {},
   "outputs": [
    {
     "name": "stdout",
     "output_type": "stream",
     "text": [
      "<class 'pandas.core.frame.DataFrame'>\n",
      "RangeIndex: 916 entries, 0 to 915\n",
      "Data columns (total 11 columns):\n",
      " #   Column             Non-Null Count  Dtype  \n",
      "---  ------             --------------  -----  \n",
      " 0   pu_name            916 non-null    object \n",
      " 1   pu_country         916 non-null    object \n",
      " 2   pu_city            916 non-null    object \n",
      " 3   pu_zipcode         915 non-null    object \n",
      " 4   pu_address         915 non-null    object \n",
      " 5   product_type       916 non-null    object \n",
      " 6   tier_level1        916 non-null    int64  \n",
      " 7   tier_level2        916 non-null    int64  \n",
      " 8   tier_level3        916 non-null    int64  \n",
      " 9   number_of_workers  800 non-null    float64\n",
      " 10  issued_from        916 non-null    object \n",
      "dtypes: float64(1), int64(3), object(7)\n",
      "memory usage: 78.8+ KB\n"
     ]
    }
   ],
   "source": [
    "br.info()"
   ]
  },
  {
   "cell_type": "markdown",
   "metadata": {},
   "source": [
    "# Europe"
   ]
  },
  {
   "cell_type": "code",
   "execution_count": 17,
   "metadata": {},
   "outputs": [],
   "source": [
    "europe = pd.read_excel('ProductionUnits_Europe.xlsx')"
   ]
  },
  {
   "cell_type": "code",
   "execution_count": 18,
   "metadata": {},
   "outputs": [],
   "source": [
    "europe.rename(columns={'Supplier Number':'suppl_number', \n",
    "                       'Supplier  Name':'suppl_name', \n",
    "                       'Suppl Status Europe':'suppl_status_europe',\n",
    "                       'Production Unit':'pu_number', \n",
    "                       'Unnamed: 4':'pu_name', \n",
    "                       'PU Type':'pu_type', \n",
    "                       'PU Status':'pu_status', \n",
    "                       'PU Address':'pu_address',\n",
    "                       'PU Zip Code':'pu_zipcode', \n",
    "                       'PU City':'pu_city', \n",
    "                       'PU Country':'pu_country', \n",
    "                       'Tier-1':'tier_level1', \n",
    "                       'Tier-2':'tier_level2', \n",
    "                       'Tier-3':'tier_level3',\n",
    "                       'PU No of Workers':'number_of_workers', \n",
    "                       'PU Categories':'product_type'}, inplace=True)"
   ]
  },
  {
   "cell_type": "code",
   "execution_count": 19,
   "metadata": {},
   "outputs": [],
   "source": [
    "europe.drop(['suppl_number', 'suppl_status_europe', \n",
    "             'suppl_name', 'pu_number', 'pu_type', 'pu_status'], axis = 1, inplace=True)"
   ]
  },
  {
   "cell_type": "code",
   "execution_count": 20,
   "metadata": {},
   "outputs": [],
   "source": [
    "europe = europe[['pu_name','pu_country', 'pu_city', 'pu_zipcode', 'pu_address', 'product_type', 'tier_level1',\n",
    "                 'tier_level2','tier_level3', 'number_of_workers']]"
   ]
  },
  {
   "cell_type": "code",
   "execution_count": 21,
   "metadata": {},
   "outputs": [],
   "source": [
    "europe['tier_level1'] = europe['tier_level1'].fillna(0)\n",
    "europe['tier_level2'] = europe['tier_level2'].fillna(0)\n",
    "europe['tier_level3'] = europe['tier_level3'].fillna(0)"
   ]
  },
  {
   "cell_type": "code",
   "execution_count": 22,
   "metadata": {},
   "outputs": [],
   "source": [
    "europe['tier_level1'] = np.where(europe.tier_level1 == 'X', 1, europe['tier_level1'])\n",
    "europe['tier_level2'] = np.where(europe.tier_level2 == 'X', 1, europe['tier_level2'])\n",
    "europe['tier_level3'] = np.where(europe.tier_level3 == 'X', 1, europe['tier_level3'])"
   ]
  },
  {
   "cell_type": "code",
   "execution_count": 23,
   "metadata": {},
   "outputs": [
    {
     "data": {
      "text/plain": [
       "1    586\n",
       "0    585\n",
       "Name: tier_level2, dtype: int64"
      ]
     },
     "execution_count": 23,
     "metadata": {},
     "output_type": "execute_result"
    }
   ],
   "source": [
    "europe.tier_level2.value_counts()"
   ]
  },
  {
   "cell_type": "code",
   "execution_count": 24,
   "metadata": {},
   "outputs": [],
   "source": [
    "europe = europe.astype({\"tier_level1\":\"int\",\"tier_level2\":\"int\", \"tier_level3\":\"int\"})"
   ]
  },
  {
   "cell_type": "code",
   "execution_count": 25,
   "metadata": {},
   "outputs": [],
   "source": [
    "europe['issued_from'] = 'Europe'"
   ]
  },
  {
   "cell_type": "code",
   "execution_count": 26,
   "metadata": {},
   "outputs": [
    {
     "name": "stdout",
     "output_type": "stream",
     "text": [
      "<class 'pandas.core.frame.DataFrame'>\n",
      "RangeIndex: 1171 entries, 0 to 1170\n",
      "Data columns (total 11 columns):\n",
      " #   Column             Non-Null Count  Dtype \n",
      "---  ------             --------------  ----- \n",
      " 0   pu_name            1171 non-null   object\n",
      " 1   pu_country         1171 non-null   object\n",
      " 2   pu_city            1171 non-null   object\n",
      " 3   pu_zipcode         1163 non-null   object\n",
      " 4   pu_address         1171 non-null   object\n",
      " 5   product_type       1171 non-null   object\n",
      " 6   tier_level1        1171 non-null   int64 \n",
      " 7   tier_level2        1171 non-null   int64 \n",
      " 8   tier_level3        1171 non-null   int64 \n",
      " 9   number_of_workers  1171 non-null   int64 \n",
      " 10  issued_from        1171 non-null   object\n",
      "dtypes: int64(4), object(7)\n",
      "memory usage: 100.8+ KB\n"
     ]
    }
   ],
   "source": [
    "europe.info()"
   ]
  },
  {
   "cell_type": "markdown",
   "metadata": {},
   "source": [
    "# Consolidate DataSet"
   ]
  },
  {
   "cell_type": "code",
   "execution_count": 27,
   "metadata": {},
   "outputs": [],
   "source": [
    "df = europe.copy()\n",
    "df = df.append(mexico)\n",
    "df = df.append(br)"
   ]
  },
  {
   "cell_type": "code",
   "execution_count": 28,
   "metadata": {},
   "outputs": [],
   "source": [
    "data=df.copy()"
   ]
  },
  {
   "cell_type": "code",
   "execution_count": 29,
   "metadata": {},
   "outputs": [
    {
     "name": "stdout",
     "output_type": "stream",
     "text": [
      "<class 'pandas.core.frame.DataFrame'>\n",
      "Int64Index: 2236 entries, 0 to 915\n",
      "Data columns (total 11 columns):\n",
      " #   Column             Non-Null Count  Dtype  \n",
      "---  ------             --------------  -----  \n",
      " 0   pu_name            2236 non-null   object \n",
      " 1   pu_country         2236 non-null   object \n",
      " 2   pu_city            2235 non-null   object \n",
      " 3   pu_zipcode         2227 non-null   object \n",
      " 4   pu_address         2235 non-null   object \n",
      " 5   product_type       2236 non-null   object \n",
      " 6   tier_level1        2236 non-null   int64  \n",
      " 7   tier_level2        2236 non-null   int64  \n",
      " 8   tier_level3        2236 non-null   int64  \n",
      " 9   number_of_workers  2074 non-null   float64\n",
      " 10  issued_from        2236 non-null   object \n",
      "dtypes: float64(1), int64(3), object(7)\n",
      "memory usage: 209.6+ KB\n"
     ]
    }
   ],
   "source": [
    "df.info()"
   ]
  },
  {
   "cell_type": "code",
   "execution_count": 30,
   "metadata": {},
   "outputs": [],
   "source": [
    "#Add column number_of_workers based on condition\n",
    "def workers(row):\n",
    "    if row['number_of_workers']>=0 and row['number_of_workers']<=250:\n",
    "        return '0-250'\n",
    "    if row['number_of_workers']>=251 and row['number_of_workers']<=500:\n",
    "        return '251-500'\n",
    "    if row['number_of_workers']>=501 and row['number_of_workers']<=750:\n",
    "        return '501-750'\n",
    "    if row['number_of_workers']>=751 and row['number_of_workers']<=1000:\n",
    "        return '751-1000'\n",
    "    else:\n",
    "        return '>1000'"
   ]
  },
  {
   "cell_type": "code",
   "execution_count": 31,
   "metadata": {},
   "outputs": [],
   "source": [
    "df['number_of_workers'] = df.apply(workers, axis=1)"
   ]
  },
  {
   "cell_type": "code",
   "execution_count": 32,
   "metadata": {},
   "outputs": [
    {
     "data": {
      "text/plain": [
       "0-250       1321\n",
       ">1000        496\n",
       "251-500      220\n",
       "501-750      123\n",
       "751-1000      76\n",
       "Name: number_of_workers, dtype: int64"
      ]
     },
     "execution_count": 32,
     "metadata": {},
     "output_type": "execute_result"
    }
   ],
   "source": [
    "df.number_of_workers.value_counts()"
   ]
  },
  {
   "cell_type": "code",
   "execution_count": 33,
   "metadata": {},
   "outputs": [],
   "source": [
    "def tier(row):\n",
    "    if row['tier_level1']== 1 and row['tier_level2']== 1:\n",
    "        return '1,2'\n",
    "    if row['tier_level1'] == 1 and row['tier_level3']==1:\n",
    "        return '1,3'\n",
    "    if row['tier_level2'] == 1 and row['tier_level3']==1:\n",
    "        return '2,3'\n",
    "    if row['tier_level2']== 1 and row['tier_level3']!=1 and row['tier_level1']!=1:\n",
    "        return '2'\n",
    "    if row['tier_level3']== 1 and row['tier_level2']!=1 and row['tier_level1']!=1:\n",
    "        return '3'\n",
    "    if row['tier_level3']== 1 and row['tier_level2']==1 and row['tier_level1']==1:\n",
    "        return '1, 2, 3'\n",
    "    else:\n",
    "        return '1'"
   ]
  },
  {
   "cell_type": "code",
   "execution_count": 34,
   "metadata": {},
   "outputs": [],
   "source": [
    "df['tier_level'] = df.apply(tier, axis=1)"
   ]
  },
  {
   "cell_type": "code",
   "execution_count": 35,
   "metadata": {},
   "outputs": [
    {
     "data": {
      "text/plain": [
       "1      1647\n",
       "1,2     372\n",
       "2       204\n",
       "2,3      10\n",
       "1,3       2\n",
       "3         1\n",
       "Name: tier_level, dtype: int64"
      ]
     },
     "execution_count": 35,
     "metadata": {},
     "output_type": "execute_result"
    }
   ],
   "source": [
    "#df.drop(['tier_level'], axis = 1, inplace=True)\n",
    "df.tier_level.value_counts()"
   ]
  },
  {
   "cell_type": "code",
   "execution_count": 36,
   "metadata": {},
   "outputs": [],
   "source": [
    "df.drop(['tier_level1', 'tier_level2', 'tier_level3', 'issued_from'], axis = 1, inplace=True)"
   ]
  },
  {
   "cell_type": "code",
   "execution_count": 37,
   "metadata": {},
   "outputs": [],
   "source": [
    "df = df[['pu_name','pu_country', 'pu_city', 'pu_zipcode', 'pu_address', 'product_type', 'tier_level',\n",
    "                 'number_of_workers']]"
   ]
  },
  {
   "cell_type": "markdown",
   "metadata": {},
   "source": [
    "# Export DataSet"
   ]
  },
  {
   "cell_type": "code",
   "execution_count": 38,
   "metadata": {},
   "outputs": [],
   "source": [
    "#export data\n",
    "df.to_excel(r'OAR_Report.xlsx', index = False)"
   ]
  },
  {
   "cell_type": "markdown",
   "metadata": {},
   "source": [
    "# Renew DF for my needs"
   ]
  },
  {
   "cell_type": "code",
   "execution_count": 39,
   "metadata": {},
   "outputs": [
    {
     "name": "stdout",
     "output_type": "stream",
     "text": [
      "<class 'pandas.core.frame.DataFrame'>\n",
      "Int64Index: 2236 entries, 0 to 915\n",
      "Data columns (total 11 columns):\n",
      " #   Column             Non-Null Count  Dtype  \n",
      "---  ------             --------------  -----  \n",
      " 0   pu_name            2236 non-null   object \n",
      " 1   pu_country         2236 non-null   object \n",
      " 2   pu_city            2235 non-null   object \n",
      " 3   pu_zipcode         2227 non-null   object \n",
      " 4   pu_address         2235 non-null   object \n",
      " 5   product_type       2236 non-null   object \n",
      " 6   tier_level1        2236 non-null   int64  \n",
      " 7   tier_level2        2236 non-null   int64  \n",
      " 8   tier_level3        2236 non-null   int64  \n",
      " 9   number_of_workers  2074 non-null   float64\n",
      " 10  issued_from        2236 non-null   object \n",
      "dtypes: float64(1), int64(3), object(7)\n",
      "memory usage: 209.6+ KB\n"
     ]
    }
   ],
   "source": [
    "data.info()"
   ]
  },
  {
   "cell_type": "code",
   "execution_count": 40,
   "metadata": {},
   "outputs": [
    {
     "data": {
      "text/plain": [
       "Brazil        914\n",
       "Bangladesh    329\n",
       "Turkey        279\n",
       "China         244\n",
       "Mexico        136\n",
       "India          63\n",
       "Cambodia       53\n",
       "Vietnam        42\n",
       "Sri Lanka      37\n",
       "Pakistan       31\n",
       "Name: pu_country, dtype: int64"
      ]
     },
     "execution_count": 40,
     "metadata": {},
     "output_type": "execute_result"
    }
   ],
   "source": [
    "data.pu_country.value_counts().head(10)"
   ]
  },
  {
   "cell_type": "code",
   "execution_count": 41,
   "metadata": {},
   "outputs": [
    {
     "data": {
      "text/plain": [
       "Dhaka                 142\n",
       "São Paulo              89\n",
       "Gazipur                76\n",
       "Blumenau               58\n",
       "ISTANBUL               55\n",
       "Istanbul               46\n",
       "Phnom Penh             35\n",
       "Taguaí                 30\n",
       "Presidente Getúlio     27\n",
       "Nova Serrana           26\n",
       "Name: pu_city, dtype: int64"
      ]
     },
     "execution_count": 41,
     "metadata": {},
     "output_type": "execute_result"
    }
   ],
   "source": [
    "data.pu_city.value_counts().head(10)"
   ]
  },
  {
   "cell_type": "code",
   "execution_count": 42,
   "metadata": {},
   "outputs": [
    {
     "data": {
      "text/plain": [
       "Apparel                                                        858\n",
       "Footwear                                                       145\n",
       "Circular Knit                                                   90\n",
       "Acessories                                                      68\n",
       "Outerwear                                                       57\n",
       "                                                              ... \n",
       "Blouses, Jeans, Scarves, Shirts, Skirts, Tailored, Trousers      1\n",
       "Accessories, Dresses, Scarves, Ties                              1\n",
       "Dresses, Jeans, Outerwear, Shirts, Skirts, Trousers              1\n",
       "Umbrella                                                         1\n",
       "Legwear, Underwear                                               1\n",
       "Name: product_type, Length: 258, dtype: int64"
      ]
     },
     "execution_count": 42,
     "metadata": {},
     "output_type": "execute_result"
    }
   ],
   "source": [
    "data.product_type.value_counts()"
   ]
  },
  {
   "cell_type": "code",
   "execution_count": 43,
   "metadata": {},
   "outputs": [],
   "source": [
    "data['product_type'] = data['product_type'].apply(lambda x: str(x).replace(' ',''))\n",
    "data['product_type'] = data['product_type'].apply(lambda x:x.split(','))\n",
    "data['count_product_type'] = data['product_type'].apply(lambda x: len(x))"
   ]
  },
  {
   "cell_type": "code",
   "execution_count": 44,
   "metadata": {},
   "outputs": [
    {
     "data": {
      "text/plain": [
       "array(['Accessories', 'Acessories', 'Apparel', 'Baby', 'Bags', 'Belts',\n",
       "       'Blouses', 'CircularKnit', 'Dresses', 'Eyewear', 'FlatKnit',\n",
       "       'Footwear', 'Gloves', 'Hats', 'Jeans', 'Jewellery', 'Legwear',\n",
       "       'Nightwear', 'Outerwear', 'Scarves', 'Shirts', 'Skirts',\n",
       "       'Swimwear', 'Tailored', 'Ties', 'Trousers', 'Umbrella',\n",
       "       'Underwear'], dtype=object)"
      ]
     },
     "execution_count": 44,
     "metadata": {},
     "output_type": "execute_result"
    }
   ],
   "source": [
    "multilabel_encoded_results = multilabelbinarizer.fit_transform(data['product_type'])\n",
    "# Classes created in MultiLabel data after Encoding\n",
    "multilabelbinarizer.classes_"
   ]
  },
  {
   "cell_type": "code",
   "execution_count": 45,
   "metadata": {},
   "outputs": [
    {
     "data": {
      "text/html": [
       "<div>\n",
       "<style scoped>\n",
       "    .dataframe tbody tr th:only-of-type {\n",
       "        vertical-align: middle;\n",
       "    }\n",
       "\n",
       "    .dataframe tbody tr th {\n",
       "        vertical-align: top;\n",
       "    }\n",
       "\n",
       "    .dataframe thead th {\n",
       "        text-align: right;\n",
       "    }\n",
       "</style>\n",
       "<table border=\"1\" class=\"dataframe\">\n",
       "  <thead>\n",
       "    <tr style=\"text-align: right;\">\n",
       "      <th></th>\n",
       "      <th>pu_name</th>\n",
       "      <th>pu_country</th>\n",
       "      <th>pu_city</th>\n",
       "      <th>pu_zipcode</th>\n",
       "      <th>pu_address</th>\n",
       "      <th>product_type</th>\n",
       "      <th>tier_level1</th>\n",
       "      <th>tier_level2</th>\n",
       "      <th>tier_level3</th>\n",
       "      <th>number_of_workers</th>\n",
       "      <th>issued_from</th>\n",
       "      <th>count_product_type</th>\n",
       "    </tr>\n",
       "  </thead>\n",
       "  <tbody>\n",
       "    <tr>\n",
       "      <th>0</th>\n",
       "      <td>Tonglu Linghui Knitting</td>\n",
       "      <td>China</td>\n",
       "      <td>Hangzhou</td>\n",
       "      <td>311500</td>\n",
       "      <td>Baishui road</td>\n",
       "      <td>[Accessories, CircularKnit, FlatKnit, Gloves, ...</td>\n",
       "      <td>1</td>\n",
       "      <td>0</td>\n",
       "      <td>0</td>\n",
       "      <td>70.0</td>\n",
       "      <td>Europe</td>\n",
       "      <td>6</td>\n",
       "    </tr>\n",
       "    <tr>\n",
       "      <th>1</th>\n",
       "      <td>GuangZhou Bangqi Leather Co.Ltd.</td>\n",
       "      <td>China</td>\n",
       "      <td>Guangzhou</td>\n",
       "      <td>510800</td>\n",
       "      <td>No 83，Xiangxing Road,Shiling Town,Huadu Distri...</td>\n",
       "      <td>[Bags]</td>\n",
       "      <td>1</td>\n",
       "      <td>0</td>\n",
       "      <td>0</td>\n",
       "      <td>208.0</td>\n",
       "      <td>Europe</td>\n",
       "      <td>1</td>\n",
       "    </tr>\n",
       "    <tr>\n",
       "      <th>2</th>\n",
       "      <td>Taizhou Shenlan Optical Co., Ltd</td>\n",
       "      <td>China</td>\n",
       "      <td>Linhai City</td>\n",
       "      <td>318016</td>\n",
       "      <td>Banyang, Duqiao Town</td>\n",
       "      <td>[Accessories, Eyewear]</td>\n",
       "      <td>1</td>\n",
       "      <td>1</td>\n",
       "      <td>0</td>\n",
       "      <td>92.0</td>\n",
       "      <td>Europe</td>\n",
       "      <td>2</td>\n",
       "    </tr>\n",
       "    <tr>\n",
       "      <th>3</th>\n",
       "      <td>Xize Fashion Accessories CO., LTD</td>\n",
       "      <td>China</td>\n",
       "      <td>Yiwu</td>\n",
       "      <td>322002</td>\n",
       "      <td>Tashan Road</td>\n",
       "      <td>[Accessories, Gloves, Hats, Scarves]</td>\n",
       "      <td>1</td>\n",
       "      <td>0</td>\n",
       "      <td>0</td>\n",
       "      <td>257.0</td>\n",
       "      <td>Europe</td>\n",
       "      <td>4</td>\n",
       "    </tr>\n",
       "    <tr>\n",
       "      <th>4</th>\n",
       "      <td>Huaian Hengtong Gloves &amp; Cap Co. Ltd</td>\n",
       "      <td>China</td>\n",
       "      <td>Huai An City</td>\n",
       "      <td>223100</td>\n",
       "      <td>No 12, Chaohu Rd. East 1 Road, Industrial Park...</td>\n",
       "      <td>[Accessories, Gloves, Hats, Scarves]</td>\n",
       "      <td>1</td>\n",
       "      <td>1</td>\n",
       "      <td>0</td>\n",
       "      <td>142.0</td>\n",
       "      <td>Europe</td>\n",
       "      <td>4</td>\n",
       "    </tr>\n",
       "  </tbody>\n",
       "</table>\n",
       "</div>"
      ],
      "text/plain": [
       "                                pu_name pu_country       pu_city pu_zipcode  \\\n",
       "0               Tonglu Linghui Knitting      China      Hangzhou     311500   \n",
       "1      GuangZhou Bangqi Leather Co.Ltd.      China     Guangzhou     510800   \n",
       "2      Taizhou Shenlan Optical Co., Ltd      China   Linhai City     318016   \n",
       "3     Xize Fashion Accessories CO., LTD      China          Yiwu     322002   \n",
       "4  Huaian Hengtong Gloves & Cap Co. Ltd      China  Huai An City     223100   \n",
       "\n",
       "                                          pu_address  \\\n",
       "0                                       Baishui road   \n",
       "1  No 83，Xiangxing Road,Shiling Town,Huadu Distri...   \n",
       "2                               Banyang, Duqiao Town   \n",
       "3                                        Tashan Road   \n",
       "4  No 12, Chaohu Rd. East 1 Road, Industrial Park...   \n",
       "\n",
       "                                        product_type  tier_level1  \\\n",
       "0  [Accessories, CircularKnit, FlatKnit, Gloves, ...            1   \n",
       "1                                             [Bags]            1   \n",
       "2                             [Accessories, Eyewear]            1   \n",
       "3               [Accessories, Gloves, Hats, Scarves]            1   \n",
       "4               [Accessories, Gloves, Hats, Scarves]            1   \n",
       "\n",
       "   tier_level2  tier_level3  number_of_workers issued_from  count_product_type  \n",
       "0            0            0               70.0      Europe                   6  \n",
       "1            0            0              208.0      Europe                   1  \n",
       "2            1            0               92.0      Europe                   2  \n",
       "3            0            0              257.0      Europe                   4  \n",
       "4            1            0              142.0      Europe                   4  "
      ]
     },
     "execution_count": 45,
     "metadata": {},
     "output_type": "execute_result"
    }
   ],
   "source": [
    "data.head()"
   ]
  },
  {
   "cell_type": "code",
   "execution_count": 50,
   "metadata": {},
   "outputs": [
    {
     "name": "stdout",
     "output_type": "stream",
     "text": [
      "<class 'pandas.core.frame.DataFrame'>\n",
      "RangeIndex: 2236 entries, 0 to 2235\n",
      "Data columns (total 28 columns):\n",
      " #   Column        Non-Null Count  Dtype\n",
      "---  ------        --------------  -----\n",
      " 0   Accessories   2236 non-null   int64\n",
      " 1   Acessories    2236 non-null   int64\n",
      " 2   Apparel       2236 non-null   int64\n",
      " 3   Baby          2236 non-null   int64\n",
      " 4   Bags          2236 non-null   int64\n",
      " 5   Belts         2236 non-null   int64\n",
      " 6   Blouses       2236 non-null   int64\n",
      " 7   CircularKnit  2236 non-null   int64\n",
      " 8   Dresses       2236 non-null   int64\n",
      " 9   Eyewear       2236 non-null   int64\n",
      " 10  FlatKnit      2236 non-null   int64\n",
      " 11  Footwear      2236 non-null   int64\n",
      " 12  Gloves        2236 non-null   int64\n",
      " 13  Hats          2236 non-null   int64\n",
      " 14  Jeans         2236 non-null   int64\n",
      " 15  Jewellery     2236 non-null   int64\n",
      " 16  Legwear       2236 non-null   int64\n",
      " 17  Nightwear     2236 non-null   int64\n",
      " 18  Outerwear     2236 non-null   int64\n",
      " 19  Scarves       2236 non-null   int64\n",
      " 20  Shirts        2236 non-null   int64\n",
      " 21  Skirts        2236 non-null   int64\n",
      " 22  Swimwear      2236 non-null   int64\n",
      " 23  Tailored      2236 non-null   int64\n",
      " 24  Ties          2236 non-null   int64\n",
      " 25  Trousers      2236 non-null   int64\n",
      " 26  Umbrella      2236 non-null   int64\n",
      " 27  Underwear     2236 non-null   int64\n",
      "dtypes: int64(28)\n",
      "memory usage: 489.2 KB\n"
     ]
    }
   ],
   "source": [
    "# Converting an Numpy Array into a pandas dataframe\n",
    "df_multilabel_data = pd.DataFrame(multilabel_encoded_results, columns=multilabelbinarizer.classes_)\n",
    "# Viewing few rows of data\n",
    "df_multilabel_data.info()"
   ]
  },
  {
   "cell_type": "code",
   "execution_count": 56,
   "metadata": {},
   "outputs": [
    {
     "data": {
      "text/html": [
       "<div>\n",
       "<style scoped>\n",
       "    .dataframe tbody tr th:only-of-type {\n",
       "        vertical-align: middle;\n",
       "    }\n",
       "\n",
       "    .dataframe tbody tr th {\n",
       "        vertical-align: top;\n",
       "    }\n",
       "\n",
       "    .dataframe thead th {\n",
       "        text-align: right;\n",
       "    }\n",
       "</style>\n",
       "<table border=\"1\" class=\"dataframe\">\n",
       "  <thead>\n",
       "    <tr style=\"text-align: right;\">\n",
       "      <th></th>\n",
       "      <th>Accessories</th>\n",
       "      <th>Acessories</th>\n",
       "      <th>Apparel</th>\n",
       "      <th>Baby</th>\n",
       "      <th>Bags</th>\n",
       "      <th>Belts</th>\n",
       "      <th>Blouses</th>\n",
       "      <th>CircularKnit</th>\n",
       "      <th>Dresses</th>\n",
       "      <th>Eyewear</th>\n",
       "      <th>...</th>\n",
       "      <th>Outerwear</th>\n",
       "      <th>Scarves</th>\n",
       "      <th>Shirts</th>\n",
       "      <th>Skirts</th>\n",
       "      <th>Swimwear</th>\n",
       "      <th>Tailored</th>\n",
       "      <th>Ties</th>\n",
       "      <th>Trousers</th>\n",
       "      <th>Umbrella</th>\n",
       "      <th>Underwear</th>\n",
       "    </tr>\n",
       "  </thead>\n",
       "  <tbody>\n",
       "    <tr>\n",
       "      <th>0</th>\n",
       "      <td>1</td>\n",
       "      <td>0</td>\n",
       "      <td>0</td>\n",
       "      <td>0</td>\n",
       "      <td>0</td>\n",
       "      <td>0</td>\n",
       "      <td>0</td>\n",
       "      <td>1</td>\n",
       "      <td>0</td>\n",
       "      <td>0</td>\n",
       "      <td>...</td>\n",
       "      <td>0</td>\n",
       "      <td>1</td>\n",
       "      <td>0</td>\n",
       "      <td>0</td>\n",
       "      <td>0</td>\n",
       "      <td>0</td>\n",
       "      <td>0</td>\n",
       "      <td>0</td>\n",
       "      <td>0</td>\n",
       "      <td>0</td>\n",
       "    </tr>\n",
       "    <tr>\n",
       "      <th>1</th>\n",
       "      <td>0</td>\n",
       "      <td>0</td>\n",
       "      <td>0</td>\n",
       "      <td>0</td>\n",
       "      <td>1</td>\n",
       "      <td>0</td>\n",
       "      <td>0</td>\n",
       "      <td>0</td>\n",
       "      <td>0</td>\n",
       "      <td>0</td>\n",
       "      <td>...</td>\n",
       "      <td>0</td>\n",
       "      <td>0</td>\n",
       "      <td>0</td>\n",
       "      <td>0</td>\n",
       "      <td>0</td>\n",
       "      <td>0</td>\n",
       "      <td>0</td>\n",
       "      <td>0</td>\n",
       "      <td>0</td>\n",
       "      <td>0</td>\n",
       "    </tr>\n",
       "    <tr>\n",
       "      <th>2</th>\n",
       "      <td>1</td>\n",
       "      <td>0</td>\n",
       "      <td>0</td>\n",
       "      <td>0</td>\n",
       "      <td>0</td>\n",
       "      <td>0</td>\n",
       "      <td>0</td>\n",
       "      <td>0</td>\n",
       "      <td>0</td>\n",
       "      <td>1</td>\n",
       "      <td>...</td>\n",
       "      <td>0</td>\n",
       "      <td>0</td>\n",
       "      <td>0</td>\n",
       "      <td>0</td>\n",
       "      <td>0</td>\n",
       "      <td>0</td>\n",
       "      <td>0</td>\n",
       "      <td>0</td>\n",
       "      <td>0</td>\n",
       "      <td>0</td>\n",
       "    </tr>\n",
       "    <tr>\n",
       "      <th>3</th>\n",
       "      <td>1</td>\n",
       "      <td>0</td>\n",
       "      <td>0</td>\n",
       "      <td>0</td>\n",
       "      <td>0</td>\n",
       "      <td>0</td>\n",
       "      <td>0</td>\n",
       "      <td>0</td>\n",
       "      <td>0</td>\n",
       "      <td>0</td>\n",
       "      <td>...</td>\n",
       "      <td>0</td>\n",
       "      <td>1</td>\n",
       "      <td>0</td>\n",
       "      <td>0</td>\n",
       "      <td>0</td>\n",
       "      <td>0</td>\n",
       "      <td>0</td>\n",
       "      <td>0</td>\n",
       "      <td>0</td>\n",
       "      <td>0</td>\n",
       "    </tr>\n",
       "    <tr>\n",
       "      <th>4</th>\n",
       "      <td>1</td>\n",
       "      <td>0</td>\n",
       "      <td>0</td>\n",
       "      <td>0</td>\n",
       "      <td>0</td>\n",
       "      <td>0</td>\n",
       "      <td>0</td>\n",
       "      <td>0</td>\n",
       "      <td>0</td>\n",
       "      <td>0</td>\n",
       "      <td>...</td>\n",
       "      <td>0</td>\n",
       "      <td>1</td>\n",
       "      <td>0</td>\n",
       "      <td>0</td>\n",
       "      <td>0</td>\n",
       "      <td>0</td>\n",
       "      <td>0</td>\n",
       "      <td>0</td>\n",
       "      <td>0</td>\n",
       "      <td>0</td>\n",
       "    </tr>\n",
       "  </tbody>\n",
       "</table>\n",
       "<p>5 rows × 28 columns</p>\n",
       "</div>"
      ],
      "text/plain": [
       "   Accessories  Acessories  Apparel  Baby  Bags  Belts  Blouses  CircularKnit  \\\n",
       "0            1           0        0     0     0      0        0             1   \n",
       "1            0           0        0     0     1      0        0             0   \n",
       "2            1           0        0     0     0      0        0             0   \n",
       "3            1           0        0     0     0      0        0             0   \n",
       "4            1           0        0     0     0      0        0             0   \n",
       "\n",
       "   Dresses  Eyewear  ...  Outerwear  Scarves  Shirts  Skirts  Swimwear  \\\n",
       "0        0        0  ...          0        1       0       0         0   \n",
       "1        0        0  ...          0        0       0       0         0   \n",
       "2        0        1  ...          0        0       0       0         0   \n",
       "3        0        0  ...          0        1       0       0         0   \n",
       "4        0        0  ...          0        1       0       0         0   \n",
       "\n",
       "   Tailored  Ties  Trousers  Umbrella  Underwear  \n",
       "0         0     0         0         0          0  \n",
       "1         0     0         0         0          0  \n",
       "2         0     0         0         0          0  \n",
       "3         0     0         0         0          0  \n",
       "4         0     0         0         0          0  \n",
       "\n",
       "[5 rows x 28 columns]"
      ]
     },
     "execution_count": 56,
     "metadata": {},
     "output_type": "execute_result"
    }
   ],
   "source": [
    "df_multilabel_data.head()"
   ]
  },
  {
   "cell_type": "code",
   "execution_count": 51,
   "metadata": {},
   "outputs": [
    {
     "name": "stdout",
     "output_type": "stream",
     "text": [
      "<class 'pandas.core.frame.DataFrame'>\n",
      "Int64Index: 2236 entries, 0 to 915\n",
      "Data columns (total 12 columns):\n",
      " #   Column              Non-Null Count  Dtype  \n",
      "---  ------              --------------  -----  \n",
      " 0   pu_name             2236 non-null   object \n",
      " 1   pu_country          2236 non-null   object \n",
      " 2   pu_city             2235 non-null   object \n",
      " 3   pu_zipcode          2227 non-null   object \n",
      " 4   pu_address          2235 non-null   object \n",
      " 5   product_type        2236 non-null   object \n",
      " 6   tier_level1         2236 non-null   int64  \n",
      " 7   tier_level2         2236 non-null   int64  \n",
      " 8   tier_level3         2236 non-null   int64  \n",
      " 9   number_of_workers   2074 non-null   float64\n",
      " 10  issued_from         2236 non-null   object \n",
      " 11  count_product_type  2236 non-null   int64  \n",
      "dtypes: float64(1), int64(4), object(7)\n",
      "memory usage: 307.1+ KB\n"
     ]
    }
   ],
   "source": [
    "data.info()"
   ]
  },
  {
   "cell_type": "code",
   "execution_count": 55,
   "metadata": {},
   "outputs": [
    {
     "data": {
      "text/plain": [
       "True"
      ]
     },
     "execution_count": 55,
     "metadata": {},
     "output_type": "execute_result"
    }
   ],
   "source": [
    "df_multilabel_data.index.is_unique"
   ]
  },
  {
   "cell_type": "code",
   "execution_count": 58,
   "metadata": {},
   "outputs": [],
   "source": [
    "data = data.join( df_multilabel_data)"
   ]
  },
  {
   "cell_type": "code",
   "execution_count": 67,
   "metadata": {},
   "outputs": [
    {
     "data": {
      "text/plain": [
       "1     1463\n",
       "2      125\n",
       "3      110\n",
       "4      102\n",
       "5       85\n",
       "6       62\n",
       "7       54\n",
       "8       47\n",
       "10      32\n",
       "9       32\n",
       "11      30\n",
       "17      20\n",
       "16      19\n",
       "13      19\n",
       "12      18\n",
       "18      10\n",
       "14       8\n",
       "Name: count_product_type, dtype: int64"
      ]
     },
     "execution_count": 67,
     "metadata": {},
     "output_type": "execute_result"
    }
   ],
   "source": [
    "data.count_product_type.value_counts()"
   ]
  },
  {
   "cell_type": "code",
   "execution_count": 66,
   "metadata": {},
   "outputs": [],
   "source": [
    "data.drop('Acessories', axis = 1, inplace = True)"
   ]
  },
  {
   "cell_type": "code",
   "execution_count": 68,
   "metadata": {},
   "outputs": [
    {
     "name": "stdout",
     "output_type": "stream",
     "text": [
      "<class 'pandas.core.frame.DataFrame'>\n",
      "Int64Index: 2236 entries, 0 to 1170\n",
      "Data columns (total 39 columns):\n",
      " #   Column              Non-Null Count  Dtype  \n",
      "---  ------              --------------  -----  \n",
      " 0   pu_name             2236 non-null   object \n",
      " 1   pu_country          2236 non-null   object \n",
      " 2   pu_city             2235 non-null   object \n",
      " 3   pu_zipcode          2227 non-null   object \n",
      " 4   pu_address          2235 non-null   object \n",
      " 5   product_type        2236 non-null   object \n",
      " 6   tier_level1         2236 non-null   int64  \n",
      " 7   tier_level2         2236 non-null   int64  \n",
      " 8   tier_level3         2236 non-null   int64  \n",
      " 9   number_of_workers   2074 non-null   float64\n",
      " 10  issued_from         2236 non-null   object \n",
      " 11  count_product_type  2236 non-null   int64  \n",
      " 12  Accessories         2236 non-null   int64  \n",
      " 13  Apparel             2236 non-null   int64  \n",
      " 14  Baby                2236 non-null   int64  \n",
      " 15  Bags                2236 non-null   int64  \n",
      " 16  Belts               2236 non-null   int64  \n",
      " 17  Blouses             2236 non-null   int64  \n",
      " 18  CircularKnit        2236 non-null   int64  \n",
      " 19  Dresses             2236 non-null   int64  \n",
      " 20  Eyewear             2236 non-null   int64  \n",
      " 21  FlatKnit            2236 non-null   int64  \n",
      " 22  Footwear            2236 non-null   int64  \n",
      " 23  Gloves              2236 non-null   int64  \n",
      " 24  Hats                2236 non-null   int64  \n",
      " 25  Jeans               2236 non-null   int64  \n",
      " 26  Jewellery           2236 non-null   int64  \n",
      " 27  Legwear             2236 non-null   int64  \n",
      " 28  Nightwear           2236 non-null   int64  \n",
      " 29  Outerwear           2236 non-null   int64  \n",
      " 30  Scarves             2236 non-null   int64  \n",
      " 31  Shirts              2236 non-null   int64  \n",
      " 32  Skirts              2236 non-null   int64  \n",
      " 33  Swimwear            2236 non-null   int64  \n",
      " 34  Tailored            2236 non-null   int64  \n",
      " 35  Ties                2236 non-null   int64  \n",
      " 36  Trousers            2236 non-null   int64  \n",
      " 37  Umbrella            2236 non-null   int64  \n",
      " 38  Underwear           2236 non-null   int64  \n",
      "dtypes: float64(1), int64(31), object(7)\n",
      "memory usage: 778.8+ KB\n"
     ]
    }
   ],
   "source": [
    "data.info()"
   ]
  },
  {
   "cell_type": "code",
   "execution_count": 69,
   "metadata": {},
   "outputs": [],
   "source": [
    "data.to_excel(r'OAR_Report_more_labels.xlsx', index = False)"
   ]
  },
  {
   "cell_type": "code",
   "execution_count": null,
   "metadata": {},
   "outputs": [],
   "source": []
  }
 ],
 "metadata": {
  "kernelspec": {
   "display_name": "Python 3",
   "language": "python",
   "name": "python3"
  },
  "language_info": {
   "codemirror_mode": {
    "name": "ipython",
    "version": 3
   },
   "file_extension": ".py",
   "mimetype": "text/x-python",
   "name": "python",
   "nbconvert_exporter": "python",
   "pygments_lexer": "ipython3",
   "version": "3.8.5"
  }
 },
 "nbformat": 4,
 "nbformat_minor": 4
}
